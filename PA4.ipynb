{
 "cells": [
  {
   "cell_type": "markdown",
   "id": "49cd26c0",
   "metadata": {},
   "source": [
    "## Task 1"
   ]
  },
  {
   "cell_type": "code",
   "execution_count": 1,
   "id": "8d935fa8",
   "metadata": {},
   "outputs": [
    {
     "name": "stdout",
     "output_type": "stream",
     "text": [
      "Average Grade: 86.6\n",
      "Letter Grade: B\n"
     ]
    }
   ],
   "source": [
    "grades = [85, 92, 78, 87, 91]\n",
    "\n",
    "average_grade = sum(grades) / len(grades)\n",
    "\n",
    "if 90 <= average_grade <= 100:\n",
    "    letter_grade = \"A\"\n",
    "elif 80 <= average_grade < 90:\n",
    "    letter_grade = \"B\"\n",
    "elif 70 <= average_grade < 80:\n",
    "    letter_grade = \"C\"\n",
    "elif 60 <= average_grade < 70:\n",
    "    letter_grade = \"D\"\n",
    "else:\n",
    "    letter_grade = \"F\"\n",
    "\n",
    "print(\"Average Grade:\", average_grade)\n",
    "print(\"Letter Grade:\", letter_grade)"
   ]
  },
  {
   "cell_type": "markdown",
   "id": "0bb802c9",
   "metadata": {},
   "source": [
    "## Task 2"
   ]
  },
  {
   "cell_type": "code",
   "execution_count": 3,
   "id": "d8ec5f36",
   "metadata": {},
   "outputs": [
    {
     "name": "stdout",
     "output_type": "stream",
     "text": [
      "Student is an adult.\n"
     ]
    }
   ],
   "source": [
    "student = (\"Eric\", \"Matthews\", 20, \"Math\")\n",
    "first_name, last_name, age, subject = student\n",
    "\n",
    "if age > 18:\n",
    "    print(\"Student is an adult.\")\n",
    "else:\n",
    "    print(\"Student is a minor.\")\n"
   ]
  },
  {
   "cell_type": "markdown",
   "id": "a26a017d",
   "metadata": {},
   "source": [
    "## Task 3"
   ]
  },
  {
   "cell_type": "code",
   "execution_count": 4,
   "id": "356dab45",
   "metadata": {},
   "outputs": [
    {
     "name": "stdout",
     "output_type": "stream",
     "text": [
      "Type a number 1-12: 8\n",
      "August, 31 days\n"
     ]
    }
   ],
   "source": [
    "number=int(input(\"Type a number 1-12: \"))\n",
    "if number==1:\n",
    "    print(\"January, 31 days\")\n",
    "elif number==2:\n",
    "    print(\"February, 28 days\")\n",
    "elif number==3:\n",
    "    print(\"March, 31 days\")\n",
    "elif number==4:\n",
    "    print(\"April, 30 days\")\n",
    "elif number==5:\n",
    "    print(\"May, 31 days\")\n",
    "elif number==6:\n",
    "    print(\"June, 30 days\")\n",
    "elif number==7:\n",
    "    print(\"July, 31 days\")\n",
    "elif number==8:\n",
    "    print(\"August, 31 days\")\n",
    "elif number==9:\n",
    "    print(\"September, 30 days\")\n",
    "elif number==10:\n",
    "    print(\"October, 31 days\")\n",
    "elif number==11:\n",
    "    print(\"November, 30 days\")\n",
    "elif number==12:\n",
    "    print(\"December, 31 days\")\n",
    "else:\n",
    "    print(\"Invalid input\")"
   ]
  },
  {
   "cell_type": "markdown",
   "id": "1a9e3cad",
   "metadata": {},
   "source": [
    "## Task 4"
   ]
  },
  {
   "cell_type": "code",
   "execution_count": 5,
   "id": "fb6cab38",
   "metadata": {},
   "outputs": [
    {
     "name": "stdout",
     "output_type": "stream",
     "text": [
      "Enter the length of side 1: 3\n",
      "Enter the length of side 2: 5\n",
      "Enter the length of side 3: 7\n",
      "Scalene Triangle\n"
     ]
    }
   ],
   "source": [
    "side1 = float(input(\"Enter the length of side 1: \"))\n",
    "side2 = float(input(\"Enter the length of side 2: \"))\n",
    "side3 = float(input(\"Enter the length of side 3: \"))\n",
    "\n",
    "if side1 == side2 == side3:\n",
    "    print(\"Equilateral Triangle\")\n",
    "elif side1 == side2 or side1 == side3 or side2 == side3:\n",
    "    print(\"Isosceles Triangle\")\n",
    "else:\n",
    "    print(\"Scalene Triangle\")"
   ]
  },
  {
   "cell_type": "markdown",
   "id": "b9e833ba",
   "metadata": {},
   "source": [
    "## Task 5"
   ]
  },
  {
   "cell_type": "code",
   "execution_count": 6,
   "id": "e25f6474",
   "metadata": {},
   "outputs": [
    {
     "name": "stdout",
     "output_type": "stream",
     "text": [
      "Even Squares: [484, 576, 676, 784, 900, 1024, 1156, 1296, 1444, 1600]\n",
      "Odd Cubes: [9261, 12167, 15625, 19683, 24389, 29791, 35937, 42875, 50653, 59319]\n"
     ]
    }
   ],
   "source": [
    "numbers = list(range(21, 41))\n",
    "\n",
    "even_squares = [x ** 2 for x in numbers if x % 2 == 0]\n",
    "odd_cubes = [x ** 3 for x in numbers if x % 2 != 0]\n",
    "\n",
    "print(\"Even Squares:\", even_squares)\n",
    "print(\"Odd Cubes:\", odd_cubes)\n"
   ]
  },
  {
   "cell_type": "code",
   "execution_count": null,
   "id": "938524d4",
   "metadata": {},
   "outputs": [],
   "source": []
  }
 ],
 "metadata": {
  "kernelspec": {
   "display_name": "Python 3 (ipykernel)",
   "language": "python",
   "name": "python3"
  },
  "language_info": {
   "codemirror_mode": {
    "name": "ipython",
    "version": 3
   },
   "file_extension": ".py",
   "mimetype": "text/x-python",
   "name": "python",
   "nbconvert_exporter": "python",
   "pygments_lexer": "ipython3",
   "version": "3.11.4"
  }
 },
 "nbformat": 4,
 "nbformat_minor": 5
}
